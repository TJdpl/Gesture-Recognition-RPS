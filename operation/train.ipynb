{
 "cells": [
  {
   "cell_type": "code",
   "execution_count": 1,
   "metadata": {},
   "outputs": [],
   "source": [
    "import torch\n",
    "import torch.nn as nn\n",
    "import torch.optim as optim\n",
    "import torchvision.transforms as transforms\n",
    "from torch.utils.data import DataLoader, ConcatDataset\n",
    "from torchvision.datasets import ImageFolder\n",
    "from sklearn.model_selection import train_test_split\n",
    "import pdb\n",
    "import matplotlib.pyplot as plt\n",
    "from tqdm import tqdm\n",
    "from torch.cuda.amp import autocast, GradScaler\n"
   ]
  },
  {
   "cell_type": "code",
   "execution_count": 2,
   "metadata": {},
   "outputs": [
    {
     "name": "stdout",
     "output_type": "stream",
     "text": [
      "类别名称列表: ['paper', 'people', 'rock', 'scissor']\n",
      "类别到索引的映射: {'paper': 0, 'people': 1, 'rock': 2, 'scissor': 3}\n"
     ]
    }
   ],
   "source": [
    "# 定义数据集根路径\n",
    "data_dir = '../datasets'\n",
    "\n",
    "# 定义图像预处理的转换操作\n",
    "# 定义图像预处理的转换操作，包括数据增强\n",
    "transform = transforms.Compose([\n",
    "    # 随机水平翻转\n",
    "    transforms.RandomHorizontalFlip(),\n",
    "    # 随机垂直翻转\n",
    "    transforms.RandomVerticalFlip(),\n",
    "    # 随机旋转\n",
    "    transforms.RandomRotation(30),\n",
    "    # 随机调整图像亮度、对比度和饱和度\n",
    "    transforms.ColorJitter(brightness=0.2, contrast=0.2, saturation=0.2),\n",
    "    # 调整图像大小\n",
    "    transforms.Resize((500, 500)),\n",
    "    # 转换为张量\n",
    "    transforms.ToTensor(),\n",
    "    # 归一化\n",
    "    transforms.Normalize(mean=[0.5, 0.5, 0.5], std=[0.5, 0.5, 0.5])\n",
    "])\n",
    "\n",
    "# 创建 ImageFolder 数据集实例\n",
    "dataset = ImageFolder(root=data_dir, transform=transform)\n",
    "\n",
    "'''\n",
    "类别名称列表: ['paper', 'people', 'rock', 'scissor']\n",
    "类别到索引的映射: {'paper': 0, 'people': 1, 'rock': 2, 'scissor': 3}\n",
    "'''\n",
    "class_names = dataset.classes\n",
    "print(\"类别名称列表:\", class_names)\n",
    "\n",
    "# 获取类别到索引的映射\n",
    "class_to_idx = dataset.class_to_idx\n",
    "print(\"类别到索引的映射:\", class_to_idx)\n",
    "\n",
    "# 划分训练集和测试集\n",
    "# 30% 的数据将被用作测试集, 42是一个随机数生成器的种子\n",
    "train_dataset, test_dataset = train_test_split(dataset, test_size=0.3, random_state=42)\n",
    "\n",
    "# 创建训练集和测试集的数据加载器\n",
    "batch_size = 8 # batch size不要太大，否则内存会爆炸\n",
    "\n",
    "\n",
    "train_loader = DataLoader(train_dataset, batch_size=batch_size, shuffle=True)\n",
    "test_loader = DataLoader(test_dataset, batch_size=batch_size, shuffle=False)\n",
    "\n"
   ]
  },
  {
   "cell_type": "code",
   "execution_count": 6,
   "metadata": {},
   "outputs": [],
   "source": [
    "\n",
    "class ConvNet(nn.Module):\n",
    "    def __init__(self):\n",
    "        super(ConvNet, self).__init__()\n",
    "        self.conv1 = nn.Conv2d(3, 16, kernel_size=3, stride=1, padding=1)\n",
    "        self.conv2 = nn.Conv2d(16, 32, kernel_size=3, stride=1, padding=1)\n",
    "        self.conv3 = nn.Conv2d(32, 64, kernel_size=3, stride=1, padding=1)\n",
    "        self.conv4 = nn.Conv2d(64, 128, kernel_size=3, stride=1, padding=1)\n",
    "        self.relu = nn.ReLU()\n",
    "        self.maxpool = nn.MaxPool2d(kernel_size=2, stride=2)\n",
    "        self.fc1 = nn.Linear(128 * 15 * 15, 128)\n",
    "        self.fc2 = nn.Linear(128, 4)\n",
    "        dropout_rate = 0.5\n",
    "        self.dropout = nn.Dropout(p=dropout_rate)\n",
    "    def forward(self, x):\n",
    "        x = self.relu(self.conv1(x))\n",
    "        x = self.maxpool(x)\n",
    "        x = self.relu(self.conv2(x))\n",
    "        x = self.maxpool(x)\n",
    "        x = self.relu(self.conv3(x))\n",
    "        x = self.maxpool(x)\n",
    "        x = self.relu(self.conv4(x))\n",
    "        x = self.maxpool(x)\n",
    "\n",
    "        x = self.maxpool(x)\n",
    "        x = x.view(x.size(0), -1)\n",
    "        x = self.relu(self.fc1(x))\n",
    "        x = self.dropout(x)\n",
    "        x = self.fc2(x)\n",
    "        return x\n"
   ]
  },
  {
   "cell_type": "code",
   "execution_count": 7,
   "metadata": {},
   "outputs": [],
   "source": [
    "# 创建神经网络实例\n",
    "model = ConvNet()\n",
    "# 定义损失函数和优化器\n",
    "criterion = nn.CrossEntropyLoss()\n",
    "# Adam优化器\n",
    "# optimizer = optim.Adam(model.parameters(), lr=0.001)\n",
    " \n",
    "# RMSprop优化器\n",
    "#optimizer = optim.RMSprop(model.parameters(), lr=0.001)\n",
    " \n",
    "# Adadelta优化器\n",
    "#optimizer = optim.Adadelta(model.parameters(), lr=1.0, rho=0.9, eps=1e-06, weight_decay=0)\n",
    "# AdamW优化器\n",
    "optimizer = optim.AdamW(model.parameters(), lr=0.001, betas=(0.9, 0.999), eps=1e-08, weight_decay=0.01, amsgrad=False)\n",
    "\n",
    "# 开启混合精度训练，\n",
    "# GradScaler 用于动态缩放梯度，可以防止出现溢出的情况\n",
    "scaler = GradScaler()\n",
    "# 训练模型\n",
    "num_epochs = 20\n",
    "\n",
    "train_losses = []\n",
    "val_losses = []\n",
    "# 如果验证集损失在多少个 epoch 内未改善，则停止训练\n",
    "patience = 5\n",
    "best_loss = float('inf')\n",
    "patience_counter = 0\n",
    "device = torch.device(\"cuda\" if torch.cuda.is_available() else \"cpu\")\n",
    "model.to(device)\n",
    "\n",
    "# 定义准确率变量\n",
    "best_accuracy = 0.0"
   ]
  },
  {
   "cell_type": "code",
   "execution_count": 8,
   "metadata": {},
   "outputs": [
    {
     "name": "stderr",
     "output_type": "stream",
     "text": [
      "                                                                      \r"
     ]
    },
    {
     "name": "stdout",
     "output_type": "stream",
     "text": [
      "Epoch [1/20], Loss: 1.2073,\n",
      "        Val Loss: 1.1430, \n",
      "        Train Accuracy: 33.40%, Test Accuracy: 39.99%\n"
     ]
    },
    {
     "name": "stderr",
     "output_type": "stream",
     "text": [
      "                                                                      \r"
     ]
    },
    {
     "name": "stdout",
     "output_type": "stream",
     "text": [
      "Epoch [2/20], Loss: 0.9551,\n",
      "        Val Loss: 0.7853, \n",
      "        Train Accuracy: 55.43%, Test Accuracy: 67.19%\n"
     ]
    },
    {
     "name": "stderr",
     "output_type": "stream",
     "text": [
      "                                                                      \r"
     ]
    },
    {
     "name": "stdout",
     "output_type": "stream",
     "text": [
      "Epoch [3/20], Loss: 0.6450,\n",
      "        Val Loss: 0.5436, \n",
      "        Train Accuracy: 74.37%, Test Accuracy: 77.97%\n"
     ]
    },
    {
     "name": "stderr",
     "output_type": "stream",
     "text": [
      "                                                                      \r"
     ]
    },
    {
     "name": "stdout",
     "output_type": "stream",
     "text": [
      "Epoch [4/20], Loss: 0.4940,\n",
      "        Val Loss: 0.4937, \n",
      "        Train Accuracy: 80.77%, Test Accuracy: 80.28%\n"
     ]
    },
    {
     "name": "stderr",
     "output_type": "stream",
     "text": [
      "                                                                      \r"
     ]
    },
    {
     "name": "stdout",
     "output_type": "stream",
     "text": [
      "Epoch [5/20], Loss: 0.3968,\n",
      "        Val Loss: 0.5779, \n",
      "        Train Accuracy: 84.71%, Test Accuracy: 76.69%\n"
     ]
    },
    {
     "name": "stderr",
     "output_type": "stream",
     "text": [
      "                                                                      \r"
     ]
    },
    {
     "name": "stdout",
     "output_type": "stream",
     "text": [
      "Epoch [6/20], Loss: 0.3506,\n",
      "        Val Loss: 0.4665, \n",
      "        Train Accuracy: 86.33%, Test Accuracy: 82.59%\n"
     ]
    },
    {
     "name": "stderr",
     "output_type": "stream",
     "text": [
      "                                                                      \r"
     ]
    },
    {
     "name": "stdout",
     "output_type": "stream",
     "text": [
      "Epoch [7/20], Loss: 0.2872,\n",
      "        Val Loss: 0.4861, \n",
      "        Train Accuracy: 89.01%, Test Accuracy: 81.74%\n"
     ]
    },
    {
     "name": "stderr",
     "output_type": "stream",
     "text": [
      "                                                                      \r"
     ]
    },
    {
     "name": "stdout",
     "output_type": "stream",
     "text": [
      "Epoch [8/20], Loss: 0.2383,\n",
      "        Val Loss: 0.5124, \n",
      "        Train Accuracy: 90.68%, Test Accuracy: 83.38%\n"
     ]
    },
    {
     "name": "stderr",
     "output_type": "stream",
     "text": [
      "                                                                      \r"
     ]
    },
    {
     "name": "stdout",
     "output_type": "stream",
     "text": [
      "Epoch [9/20], Loss: 0.2210,\n",
      "        Val Loss: 0.5027, \n",
      "        Train Accuracy: 90.94%, Test Accuracy: 83.81%\n"
     ]
    },
    {
     "name": "stderr",
     "output_type": "stream",
     "text": [
      "                                                                       \r"
     ]
    },
    {
     "name": "stdout",
     "output_type": "stream",
     "text": [
      "Epoch [10/20], Loss: 0.1955,\n",
      "        Val Loss: 0.5254, \n",
      "        Train Accuracy: 92.41%, Test Accuracy: 81.19%\n"
     ]
    },
    {
     "name": "stderr",
     "output_type": "stream",
     "text": [
      "                                                                       \r"
     ]
    },
    {
     "name": "stdout",
     "output_type": "stream",
     "text": [
      "Epoch [11/20], Loss: 0.1844,\n",
      "        Val Loss: 0.6927, \n",
      "        Train Accuracy: 92.46%, Test Accuracy: 83.51%\n",
      "Early stopping!\n"
     ]
    }
   ],
   "source": [
    "\n",
    "for epoch in range(num_epochs):\n",
    "    # 训练模型\n",
    "    model.train()\n",
    "    running_loss = 0.0\n",
    "    correct = 0\n",
    "    total = 0\n",
    "    val_loss = 0\n",
    "    \n",
    "    for images, labels in tqdm(train_loader, desc=f'Training Epoch {epoch + 1}/{num_epochs}', leave=False):\n",
    "        images = images.to(device)\n",
    "        labels = labels.to(device)\n",
    "        with autocast():\n",
    "        # 前向传播\n",
    "            outputs = model(images)\n",
    "            loss = criterion(outputs, labels)\n",
    "\n",
    "            # 反向传播和优化\n",
    "            optimizer.zero_grad()\n",
    "            scaler.scale(loss).backward()  # 缩放损失\n",
    "            scaler.step(optimizer)          # 更新梯度\n",
    "            scaler.update()                 # 更新缩放器\n",
    "\n",
    "        running_loss += loss.item()\n",
    "        _, predicted = outputs.max(1)\n",
    "        total += labels.size(0)\n",
    "        correct += predicted.eq(labels).sum().item()\n",
    "\n",
    "\n",
    "    epoch_loss = running_loss / len(train_loader)\n",
    "    train_losses.append(epoch_loss)  # 记录损失值\n",
    "    train_accuracy = 100.0 * correct / total\n",
    "\n",
    "    # 在测试集上进行推断\n",
    "    model.eval()\n",
    "    test_correct = 0\n",
    "    test_total = 0\n",
    "    with torch.no_grad():\n",
    "        for images, labels in test_loader:\n",
    "            images = images.to(device)\n",
    "            labels = labels.to(device)\n",
    "\n",
    "            outputs = model(images)\n",
    "            _, predicted = outputs.max(1)\n",
    "            test_total += labels.size(0)\n",
    "            test_correct += predicted.eq(labels).sum().item()\n",
    "            val_loss += criterion(outputs, labels).item()\n",
    "    val_loss /= len(test_loader)\n",
    "    val_losses.append(val_loss)  # 记录损失值\n",
    "    test_accuracy = 100.0 * test_correct / test_total\n",
    "    print(\n",
    "        f\"\"\"Epoch [{epoch + 1}/{num_epochs}], Loss: {epoch_loss:.4f},\n",
    "        Val Loss: {val_loss:.4f}, \n",
    "        Train Accuracy: {train_accuracy:.2f}%, Test Accuracy: {test_accuracy:.2f}%\"\"\")\n",
    "    if val_loss < best_loss:\n",
    "        best_loss = val_loss\n",
    "        patience_counter = 0  # 重置计数器\n",
    "    else:\n",
    "        patience_counter += 1  # 计数器加一\n",
    "        if patience_counter >= patience:\n",
    "            print(\"Early stopping!\")\n",
    "            break\n",
    "    # 如果准确率有提升，则保存模型\n",
    "    if test_accuracy > best_accuracy:\n",
    "        best_accuracy = test_accuracy\n",
    "        torch.save(model.state_dict(), './best_model.pt')\n",
    "    torch.cuda.empty_cache()"
   ]
  },
  {
   "cell_type": "code",
   "execution_count": null,
   "metadata": {},
   "outputs": [
    {
     "data": {
      "image/png": "[encoded data removed]",
      "text/plain": [
       "<Figure size 1000x500 with 1 Axes>"
      ]
     },
     "metadata": {},
     "output_type": "display_data"
    }
   ],
   "source": [
    "# 绘制损失变化曲线\n",
    "plt.figure(figsize=(10, 5))\n",
    "plt.plot(range(1, epoch + 2), train_losses, label='Train Loss')\n",
    "plt.plot(range(1, epoch + 2), val_losses, label='Validation Loss')\n",
    "plt.xlabel('Epoch')\n",
    "plt.ylabel('Loss')\n",
    "plt.title('Training and Validation Loss')\n",
    "plt.legend()\n",
    "plt.grid()\n",
    "plt.show()"
   ]
  }
 ],
 "metadata": {
  "kernelspec": {
   "display_name": "base",
   "language": "python",
   "name": "python3"
  },
  "language_info": {
   "codemirror_mode": {
    "name": "ipython",
    "version": 3
   },
   "file_extension": ".py",
   "mimetype": "text/x-python",
   "name": "python",
   "nbconvert_exporter": "python",
   "pygments_lexer": "ipython3",
   "version": "3.11.7"
  }
 },
 "nbformat": 4,
 "nbformat_minor": 4
}
